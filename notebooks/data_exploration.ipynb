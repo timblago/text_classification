{
 "cells": [
  {
   "cell_type": "code",
   "execution_count": null,
   "metadata": {},
   "outputs": [],
   "source": [
    "import pandas as pd\n",
    "\n",
    "data = pd.read_csv('../data/IMDB Dataset.csv')\n",
    "train_slice = int(len(data)*0.7)\n",
    "val_slice = train_slice + int(len(data)*0.2)\n",
    "#test_slice = val_slice + int(len(data)*0.1)\n",
    "train_data = data[:train_slice]\n",
    "val_data = data[train_slice:val_slice]\n",
    "test_data = data[val_slice:]\n",
    "print(val_data)"
   ]
  },
  {
   "cell_type": "code",
   "execution_count": null,
   "metadata": {},
   "outputs": [],
   "source": [
    "from torchtext.data.utils import get_tokenizer\n",
    "\n",
    "tokenizer = get_tokenizer('basic_english')"
   ]
  },
  {
   "cell_type": "code",
   "execution_count": null,
   "metadata": {},
   "outputs": [],
   "source": [
    "val_data = val_data.reset_index()\n",
    "\n",
    "val_data['review'][0]"
   ]
  }
 ],
 "metadata": {
  "language_info": {
   "name": "python"
  }
 },
 "nbformat": 4,
 "nbformat_minor": 2
}
